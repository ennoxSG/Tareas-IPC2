{
  "nbformat": 4,
  "nbformat_minor": 0,
  "metadata": {
    "colab": {
      "name": "Listas circulares.ipynb",
      "provenance": [],
      "authorship_tag": "ABX9TyMOuLcJJ0vxVvNQYYMBA/mI",
      "include_colab_link": true
    },
    "kernelspec": {
      "name": "python3",
      "display_name": "Python 3"
    },
    "language_info": {
      "name": "python"
    }
  },
  "cells": [
    {
      "cell_type": "markdown",
      "metadata": {
        "id": "view-in-github",
        "colab_type": "text"
      },
      "source": [
        "<a href=\"https://colab.research.google.com/github/ennoxSG/Tareas-IPC2/blob/main/Tarea%202/Listas%20circulares.ipynb\" target=\"_parent\"><img src=\"https://colab.research.google.com/assets/colab-badge.svg\" alt=\"Open In Colab\"/></a>"
      ]
    },
    {
      "cell_type": "code",
      "metadata": {
        "id": "o6Aa7FVszBbs"
      },
      "source": [
        ""
      ],
      "execution_count": null,
      "outputs": []
    },
    {
      "cell_type": "markdown",
      "metadata": {
        "id": "5rfRjrqdzMC7"
      },
      "source": [
        "# **Listas circulares**\n",
        "**Definicion de la clase estudiantes**"
      ]
    },
    {
      "cell_type": "code",
      "metadata": {
        "id": "kM8Ux3QJzdwo"
      },
      "source": [
        "class estudiante:\n",
        "  def __init__(self, carne, nombre, edad, direccion, telefono, email, carrera, puesto):\n",
        "    self.carne = carne\n",
        "    self.nombre = nombre\n",
        "    self.edad = edad\n",
        "    self.direccion = direccion\n",
        "    self.telefono = telefono\n",
        "    self.email = email\n",
        "    self.carrera = carrera\n",
        "    self.puesto = puesto"
      ],
      "execution_count": null,
      "outputs": []
    },
    {
      "cell_type": "markdown",
      "metadata": {
        "id": "JieHqA4Sz5tE"
      },
      "source": [
        "**Clase nodo**"
      ]
    },
    {
      "cell_type": "code",
      "metadata": {
        "id": "bM0rUv5DznNf"
      },
      "source": [
        "class nodo:\n",
        "  def __init__(self, estudiante=None, siguiente=None):\n",
        "    self.estudiante = estudiante\n",
        "    self.siguiente = siguiente"
      ],
      "execution_count": null,
      "outputs": []
    },
    {
      "cell_type": "markdown",
      "metadata": {
        "id": "xteqlLJp1gcX"
      },
      "source": [
        "Definicion de la clase lista circular\n"
      ]
    },
    {
      "cell_type": "code",
      "metadata": {
        "id": "cnXwiA6z1k4D"
      },
      "source": [
        "class lista_circular:\n",
        "  def __init__ (self):\n",
        "    self.primero = None\n",
        "\n",
        "  def insertar(self, estudiante):\n",
        "    if self.primero is None:\n",
        "      self.primero = nodo(estudiante = estudiante)\n",
        "      self.primero.siguiente = self.primero\n",
        "    else:\n",
        "      actual = nodo(estudiante=estudiante,siguiente=self.primero.siguiente)\n",
        "      self.primero.siguiente = actual\n",
        "\n",
        "  def recorrer(self):\n",
        "    if self.primero is None:\n",
        "      return\n",
        "    actual = self.primero \n",
        "    print(\"carne: \", actual.estudiante.carne, \"nombre:\", actual.estudiante.nombre, \"email: \", actual.estudiante.email, \"->\")\n",
        "    while actual.siguiente != self.primero:\n",
        "      actual = actual.siguiente \n",
        "      print(\"carne: \", actual.estudiante.carne, \"nombre:\", actual.estudiante.nombre, \"email: \", actual.estudiante.email, \"->\")\n",
        "  \n",
        "  def eliminar(self,carne):\n",
        "    actual = self.primero\n",
        "    anterior = None\n",
        "    no_encontrado = False\n",
        "\n",
        "    while actual and actual.estudiante.carne != carne:\n",
        "      anterior = actual\n",
        "      actual = actual.siguiente\n",
        "      \n",
        "      if actual == self.primero:\n",
        "        no_encontrado = True\n",
        "        break\n",
        "\n",
        "    if not no_encontrado:\n",
        "      if anterior is not None:\n",
        "        anterior.siguiente = actual.siguiente\n",
        "      else:\n",
        "        while actual.siguiente != self.primero:\n",
        "          actual = actual.siguiente\n",
        "        actual.siguiente = self.primero.siguiente\n",
        "        self.primero = self.primero.siguiente\n",
        "\n",
        "  def buscar(self, carne):\n",
        "    if self.primero is None:\n",
        "      return\n",
        "    actual = self.primero \n",
        "    if actual.estudiante.carne == carne:\n",
        "      print(\"carne: \", actual.estudiante.carne, \"nombre:\", actual.estudiante.nombre, \"email: \", actual.estudiante.email, \"->\")\n",
        "    while actual.siguiente != self.primero:\n",
        "      actual = actual.siguiente \n",
        "      if actual.estudiante.carne == carne:\n",
        "        print(\"carne: \", actual.estudiante.carne, \"nombre:\", actual.estudiante.nombre, \"email: \", actual.estudiante.email, \"->\")\n"
      ],
      "execution_count": null,
      "outputs": []
    },
    {
      "cell_type": "code",
      "metadata": {
        "id": "Lq8acJP1-NXb"
      },
      "source": [
        "e1 = estudiante(201916000, \"Gerson Ortiz\", 20, \"10 calle zona 10\", 2444101, \"gerson-o@gmail.com\", \"Ingenieria en Sistemas\", \"Programador Jr\")\n",
        "e2 = estudiante(201917000, \"Karen Caribel\", 21, \"7 calle zona 10\", 2445101, \"k-caribel@gmail.com\", \"Ingenieria en Sistemas\", \"Programador Jr\")\n",
        "e3 = estudiante(201918000, \"Luis Mongol\", 23, \"4 calle zona 10\", 2445101, \"luis_mongol@gmail.com\", \"Ingenieria en Sistemas\", \"Programador Jr\")"
      ],
      "execution_count": null,
      "outputs": []
    },
    {
      "cell_type": "code",
      "metadata": {
        "id": "u3-fyWNV-Sxr"
      },
      "source": [
        "lista_c = lista_circular()\n",
        "lista_c.insertar(e1)\n",
        "lista_c.insertar(e2)\n",
        "lista_c.insertar(e3)"
      ],
      "execution_count": null,
      "outputs": []
    },
    {
      "cell_type": "code",
      "metadata": {
        "colab": {
          "base_uri": "https://localhost:8080/"
        },
        "id": "6vdfDZjr-YyB",
        "outputId": "6bf0ae09-869a-4487-a1df-493aa98968ff"
      },
      "source": [
        "lista_c.recorrer()"
      ],
      "execution_count": null,
      "outputs": [
        {
          "output_type": "stream",
          "text": [
            "carne:  201916000 nombre: Gerson Ortiz email:  gerson-o@gmail.com ->\n",
            "carne:  201918000 nombre: Luis Mongol email:  luis_mongol@gmail.com ->\n",
            "carne:  201917000 nombre: Karen Caribel email:  k-caribel@gmail.com ->\n"
          ],
          "name": "stdout"
        }
      ]
    },
    {
      "cell_type": "markdown",
      "metadata": {
        "id": "WbQesv_zrtVO"
      },
      "source": [
        "## Eliminar de la lista"
      ]
    },
    {
      "cell_type": "code",
      "metadata": {
        "id": "v7MeoFyD-sz1",
        "colab": {
          "base_uri": "https://localhost:8080/"
        },
        "outputId": "b353553d-e4b3-42a9-c72d-04cbf0aa2b9e"
      },
      "source": [
        "lista_c.eliminar(201915000)\n",
        "lista_c.recorrer()"
      ],
      "execution_count": null,
      "outputs": [
        {
          "output_type": "stream",
          "text": [
            "carne:  201916000 nombre: Gerson Ortiz email:  gerson-o@gmail.com ->\n",
            "carne:  201918000 nombre: Luis Mongol email:  luis_mongol@gmail.com ->\n",
            "carne:  201917000 nombre: Karen Caribel email:  k-caribel@gmail.com ->\n"
          ],
          "name": "stdout"
        }
      ]
    },
    {
      "cell_type": "markdown",
      "metadata": {
        "id": "x-9tVyDuf1nv"
      },
      "source": [
        "## Buscar en la lista\n"
      ]
    },
    {
      "cell_type": "code",
      "metadata": {
        "colab": {
          "base_uri": "https://localhost:8080/"
        },
        "id": "hIXOQZtkf5V9",
        "outputId": "546ea200-bd1c-4818-8c60-a161cf07898b"
      },
      "source": [
        "lista_c.buscar(201916000)"
      ],
      "execution_count": null,
      "outputs": [
        {
          "output_type": "stream",
          "text": [
            "carne:  201916000 nombre: Gerson Ortiz email:  gerson-o@gmail.com ->\n"
          ],
          "name": "stdout"
        }
      ]
    }
  ]
}