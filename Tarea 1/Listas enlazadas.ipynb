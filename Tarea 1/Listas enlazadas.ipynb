{
  "nbformat": 4,
  "nbformat_minor": 0,
  "metadata": {
    "colab": {
      "name": "1. Listas enlazadas.ipynb",
      "provenance": [],
      "collapsed_sections": [],
      "authorship_tag": "ABX9TyP9Kc6PMRJITI/mFH9j1Got",
      "include_colab_link": true
    },
    "kernelspec": {
      "name": "python3",
      "display_name": "Python 3"
    },
    "language_info": {
      "name": "python"
    }
  },
  "cells": [
    {
      "cell_type": "markdown",
      "metadata": {
        "id": "view-in-github",
        "colab_type": "text"
      },
      "source": [
        "<a href=\"https://colab.research.google.com/github/ennoxSG/IPC2/blob/main/Tarea%201/Listas%20enlazadas.ipynb\" target=\"_parent\"><img src=\"https://colab.research.google.com/assets/colab-badge.svg\" alt=\"Open In Colab\"/></a>"
      ]
    },
    {
      "cell_type": "markdown",
      "metadata": {
        "id": "z02AS9gquFI9"
      },
      "source": [
        "# **Listas enlazadas**\n",
        "Definicion de la clase Estudiante"
      ]
    },
    {
      "cell_type": "code",
      "metadata": {
        "id": "O09QaKx0t_zZ"
      },
      "source": [
        "class estudiante:\n",
        "  def __init__(self, carne, nombre, edad, direccion, telefono, email, carrera, puesto):\n",
        "    self.carne = carne\n",
        "    self.nombre = nombre\n",
        "    self.edad = edad\n",
        "    self.direccion = direccion\n",
        "    self.telefono = telefono\n",
        "    self.email = email\n",
        "    self.carrera = carrera\n",
        "    self.puesto = puesto\n"
      ],
      "execution_count": null,
      "outputs": []
    },
    {
      "cell_type": "markdown",
      "metadata": {
        "id": "0oIGm7T9zUtm"
      },
      "source": [
        "**Definir la clase Nodo**"
      ]
    },
    {
      "cell_type": "code",
      "metadata": {
        "id": "9XvrFf4YzZzI"
      },
      "source": [
        "class nodo:\n",
        "  def __init__(self, estudiante=None, siguiente=None):\n",
        "    self.estudiante = estudiante\n",
        "    self.siguiente = siguiente"
      ],
      "execution_count": null,
      "outputs": []
    },
    {
      "cell_type": "code",
      "metadata": {
        "id": "jvgmzqnr0B5W"
      },
      "source": [
        "def test(x, y=1):\n",
        "  if y == 1:\n",
        "    print(\"true\")\n",
        "  else:\n",
        "    print(\"false\")"
      ],
      "execution_count": null,
      "outputs": []
    },
    {
      "cell_type": "code",
      "metadata": {
        "colab": {
          "base_uri": "https://localhost:8080/"
        },
        "id": "s5poAsX_0SuO",
        "outputId": "f395a0a2-bd92-4c8a-ff41-45e1e98f2ca8"
      },
      "source": [
        "test(10)"
      ],
      "execution_count": null,
      "outputs": [
        {
          "output_type": "stream",
          "text": [
            "true\n"
          ],
          "name": "stdout"
        }
      ]
    },
    {
      "cell_type": "markdown",
      "metadata": {
        "id": "FRV17iVb26Fa"
      },
      "source": [
        "**Definicion de la clase Lista enlazada**"
      ]
    },
    {
      "cell_type": "code",
      "metadata": {
        "id": "EY8AoM-z3BX7"
      },
      "source": [
        "class lista_enlazada:\n",
        "  def __init__(self):\n",
        "    self.primero = None\n",
        "\n",
        "  def insertar(self, estudiante):\n",
        "    if self.primero is None:\n",
        "      self.primero = nodo(estudiante=estudiante)\n",
        "      return\n",
        "    actual = self.primero\n",
        "    while actual.siguiente:\n",
        "      actual = actual.siguiente \n",
        "    actual.siguiente = nodo(estudiante=estudiante)\n",
        "  \n",
        "  def recorrer(self):\n",
        "    actual = self.primero\n",
        "    while actual != None:\n",
        "      print(\"carne: \", actual.estudiante.carne, \"nombre:\", actual.estudiante.nombre, \"email: \", actual.estudiante.email, \"->\")\n",
        "      actual = actual.siguiente\n",
        "\n",
        "  def eliminar(self, carne):\n",
        "    actual = self.primero\n",
        "    anterior = None\n",
        "\n",
        "    while actual and actual.estudiante.carne != carne:\n",
        "      anterior = actual\n",
        "      actual = actual.siguiente\n",
        "\n",
        "    if anterior is None:\n",
        "      self.primero = actual.siguiente\n",
        "    elif actual:\n",
        "      anterior.siguiente = actual.siguiente\n",
        "      actual.siguiente = None\n",
        "\n",
        "    "
      ],
      "execution_count": null,
      "outputs": []
    },
    {
      "cell_type": "markdown",
      "metadata": {
        "id": "e1VwSuyNsdEc"
      },
      "source": [
        "**Creacion de objeto estudiante**\n",
        "\n",
        "\n"
      ]
    },
    {
      "cell_type": "code",
      "metadata": {
        "id": "aA6suzRdslPI"
      },
      "source": [
        "e1 = estudiante(201916000, \"Gerson Ortiz\", 20, \"10 calle zona 10\", 2444101, \"gerson-o@gmail.com\", \"Ingenieria en Sistemas\", \"Programador Jr\")\n",
        "e2 = estudiante(201917000, \"Karen Caribel\", 21, \"7 calle zona 10\", 2445101, \"k-caribel@gmail.com\", \"Ingenieria en Sistemas\", \"Programador Jr\")\n",
        "e3 = estudiante(201918000, \"Luis Mongol\", 23, \"4 calle zona 10\", 2445101, \"luis_mongol@gmail.com\", \"Ingenieria en Sistemas\", \"Programador Jr\")"
      ],
      "execution_count": null,
      "outputs": []
    },
    {
      "cell_type": "code",
      "metadata": {
        "id": "niFrV0r5tu0f"
      },
      "source": [
        "lista_e = lista_enlazada()\n",
        "lista_e.insertar(e1)\n",
        "lista_e.insertar(e2)\n",
        "lista_e.insertar(e3)\n"
      ],
      "execution_count": null,
      "outputs": []
    },
    {
      "cell_type": "code",
      "metadata": {
        "colab": {
          "base_uri": "https://localhost:8080/"
        },
        "id": "aDHdbwgAuAQm",
        "outputId": "30c3db16-9241-4388-aa05-74573ef33491"
      },
      "source": [
        "lista_e.recorrer()\n",
        "lista_e.eliminar(201917000)\n",
        "lista_e.recorrer()"
      ],
      "execution_count": null,
      "outputs": [
        {
          "output_type": "stream",
          "text": [
            "carne:  201916000 nombre: Gerson Ortiz email:  gerson-o@gmail.com ->\n",
            "carne:  201917000 nombre: Karen Caribel email:  k-caribel@gmail.com ->\n",
            "carne:  201918000 nombre: Luis Mongol email:  luis_mongol@gmail.com ->\n",
            "carne:  201916000 nombre: Gerson Ortiz email:  gerson-o@gmail.com ->\n",
            "carne:  201918000 nombre: Luis Mongol email:  luis_mongol@gmail.com ->\n"
          ],
          "name": "stdout"
        }
      ]
    },
    {
      "cell_type": "code",
      "metadata": {
        "id": "uHF_wzpDuKIH"
      },
      "source": [
        ""
      ],
      "execution_count": null,
      "outputs": []
    }
  ]
}