{
  "nbformat": 4,
  "nbformat_minor": 0,
  "metadata": {
    "colab": {
      "name": "Doble_apuntador.ipynb",
      "provenance": [],
      "authorship_tag": "ABX9TyOBSJNkYaQStKgiapetX09f",
      "include_colab_link": true
    },
    "kernelspec": {
      "name": "python3",
      "display_name": "Python 3"
    },
    "language_info": {
      "name": "python"
    }
  },
  "cells": [
    {
      "cell_type": "markdown",
      "metadata": {
        "id": "view-in-github",
        "colab_type": "text"
      },
      "source": [
        "<a href=\"https://colab.research.google.com/github/ennoxSG/Tareas-IPC2/blob/main/Tarea%203/Doblemente%20apuntada.ipynb\" target=\"_parent\"><img src=\"https://colab.research.google.com/assets/colab-badge.svg\" alt=\"Open In Colab\"/></a>"
      ]
    },
    {
      "cell_type": "code",
      "metadata": {
        "id": "hJtNDgVNvyhw"
      },
      "source": [
        ""
      ],
      "execution_count": null,
      "outputs": []
    },
    {
      "cell_type": "markdown",
      "metadata": {
        "id": "itw3qMVlztLy"
      },
      "source": [
        "# Lista doblemente enlazada"
      ]
    },
    {
      "cell_type": "code",
      "metadata": {
        "id": "LmzJrPP8zw2k"
      },
      "source": [
        "class estudiante:\n",
        "  def __init__(self, carne, nombre, edad, direccion, telefono, email, carrera, puesto):\n",
        "    self.carne = carne\n",
        "    self.nombre = nombre\n",
        "    self.edad = edad\n",
        "    self.direccion = direccion\n",
        "    self.telefono = telefono\n",
        "    self.email = email\n",
        "    self.carrera = carrera\n",
        "    self.puesto = puesto"
      ],
      "execution_count": 1,
      "outputs": []
    },
    {
      "cell_type": "markdown",
      "metadata": {
        "id": "xxXCwPfQz_Ob"
      },
      "source": [
        "Definicion de clase Nodo"
      ]
    },
    {
      "cell_type": "code",
      "metadata": {
        "id": "GvXK7frbz6pJ"
      },
      "source": [
        "class nodo:\n",
        "  def __init__(self, estudiante = None, siguiente= None, anterior= None):\n",
        "    self.estudiante = estudiante\n",
        "    self.siguiente = siguiente\n",
        "    self.anterior = anterior"
      ],
      "execution_count": 2,
      "outputs": []
    },
    {
      "cell_type": "markdown",
      "metadata": {
        "id": "0h6J-Cqk0f5D"
      },
      "source": [
        "#Definicion de la clase lista doblemente enlazada"
      ]
    },
    {
      "cell_type": "code",
      "metadata": {
        "id": "PdgnNWf70UDP"
      },
      "source": [
        "class lista_doble:\n",
        "  def __init__(self):\n",
        "    self.primero = None\n",
        "  \n",
        "  def insertar(self, estudiante):\n",
        "    if self.primero is None:\n",
        "      self.primero = nodo(estudiante=estudiante)\n",
        "    else:\n",
        "      actual = nodo(estudiante=estudiante, siguiente=self.primero)\n",
        "      self.primero.anterior = actual\n",
        "      self.primero = actual\n",
        "    \n",
        "  def recorrer(self):\n",
        "    if self.primero is None:\n",
        "      return\n",
        "    actual = self.primero\n",
        "    print(\"carne:\", actual.estudiante.carne, \"nombre:\",actual.estudiante.nombre, \"email:\", actual.estudiante.email, \"->\")\n",
        "    while actual.siguiente:\n",
        "      actual = actual.siguiente\n",
        "      print(\"carne:\", actual.estudiante.carne, \"nombre:\",actual.estudiante.nombre, \"email:\", actual.estudiante.email, \"->\")\n",
        "  \n",
        "  def eliminar(self, carne):\n",
        "    actual = self.primero\n",
        "    while actual:\n",
        "      if actual.estudiante.carne == carne:\n",
        "        if actual.anterior:\n",
        "          if actual.siguiente:\n",
        "            actual.anterior.siguiente = actual.siguiente\n",
        "            actual.siguiente.anterior = actual.anterior\n",
        "          else:\n",
        "            actual.anterior.siguiente = None\n",
        "            actual.anterior = None\n",
        "        else:\n",
        "          if actual.siguiente:\n",
        "            self.primero = actual.siguiente\n",
        "            actual.siguiente.anterior = None\n",
        "          else:\n",
        "            self.primero = None\n",
        "        return True\n",
        "      else:\n",
        "        actual = actual.siguiente\n",
        "    return False\n",
        "\n",
        "  def buscar(self, carne):\n",
        "    if self.primero is None:\n",
        "      return\n",
        "    actual = self.primero\n",
        "    if actual.estudiante.carne == carne:\n",
        "      print(\"carne:\", actual.estudiante.carne, \"nombre:\",actual.estudiante.nombre, \"email:\", actual.estudiante.email, \"->\")\n",
        "      return True\n",
        "    while actual.siguiente:\n",
        "      actual = actual.siguiente\n",
        "      if actual.estudiante.carne == carne:\n",
        "        print(\"carne:\", actual.estudiante.carne, \"nombre:\",actual.estudiante.nombre, \"email:\", actual.estudiante.email, \"->\")\n",
        "        return True\n",
        "    return False"
      ],
      "execution_count": 3,
      "outputs": []
    },
    {
      "cell_type": "markdown",
      "metadata": {
        "id": "ySY_RB1j9xLU"
      },
      "source": [
        "### Crear elementos y lista"
      ]
    },
    {
      "cell_type": "code",
      "metadata": {
        "id": "dHhL2d8p2Wrj"
      },
      "source": [
        "e1 = estudiante(201916000, \"Gerson Ortiz\", 20, \"10 calle zona 10\", 2444101, \"gerson-o@gmail.com\", \"Ingenieria en Sistemas\", \"Programador Jr\")\n",
        "e2 = estudiante(201917000, \"Karen Caribel\", 21, \"7 calle zona 10\", 2445101, \"k-caribel@gmail.com\", \"Ingenieria en Sistemas\", \"Programador Jr\")\n",
        "e3 = estudiante(201918000, \"Luis Mongol\", 23, \"4 calle zona 10\", 2445101, \"luis_mongol@gmail.com\", \"Ingenieria en Sistemas\", \"Programador Jr\")"
      ],
      "execution_count": 14,
      "outputs": []
    },
    {
      "cell_type": "code",
      "metadata": {
        "id": "DE45xz0u2X7F"
      },
      "source": [
        "lista_d = lista_doble()\n",
        "lista_d.insertar(e1)\n",
        "lista_d.insertar(e2)\n",
        "lista_d.insertar(e3)"
      ],
      "execution_count": 15,
      "outputs": []
    },
    {
      "cell_type": "markdown",
      "metadata": {
        "id": "qjoVOCLQwUpH"
      },
      "source": [
        "###Recorrer la lista"
      ]
    },
    {
      "cell_type": "code",
      "metadata": {
        "id": "xGKjITk82cDM",
        "colab": {
          "base_uri": "https://localhost:8080/"
        },
        "outputId": "344c6e08-aa8c-45c3-e435-f03b8d7d1667"
      },
      "source": [
        "lista_d.recorrer()"
      ],
      "execution_count": 6,
      "outputs": [
        {
          "output_type": "stream",
          "text": [
            "carne: 201918000 nombre: Luis Mongol email: luis_mongol@gmail.com ->\n",
            "carne: 201917000 nombre: Karen Caribel email: k-caribel@gmail.com ->\n",
            "carne: 201916000 nombre: Gerson Ortiz email: gerson-o@gmail.com ->\n"
          ],
          "name": "stdout"
        }
      ]
    },
    {
      "cell_type": "markdown",
      "metadata": {
        "id": "waIkYgZh7mnv"
      },
      "source": [
        "###Eñiminar el nodo del medio de la lista"
      ]
    },
    {
      "cell_type": "code",
      "metadata": {
        "colab": {
          "base_uri": "https://localhost:8080/"
        },
        "id": "dudX5Qmfwbog",
        "outputId": "cc78ca66-0d7d-4740-c5fe-db882d2f8afe"
      },
      "source": [
        "lista_d.eliminar(201917000)"
      ],
      "execution_count": 7,
      "outputs": [
        {
          "output_type": "execute_result",
          "data": {
            "text/plain": [
              "True"
            ]
          },
          "metadata": {},
          "execution_count": 7
        }
      ]
    },
    {
      "cell_type": "code",
      "metadata": {
        "colab": {
          "base_uri": "https://localhost:8080/"
        },
        "id": "thM3zhd57yl1",
        "outputId": "31a9b30b-35ad-4cb9-db6d-4c6796ee294d"
      },
      "source": [
        "lista_d.recorrer()"
      ],
      "execution_count": 8,
      "outputs": [
        {
          "output_type": "stream",
          "text": [
            "carne: 201918000 nombre: Luis Mongol email: luis_mongol@gmail.com ->\n",
            "carne: 201916000 nombre: Gerson Ortiz email: gerson-o@gmail.com ->\n"
          ],
          "name": "stdout"
        }
      ]
    },
    {
      "cell_type": "markdown",
      "metadata": {
        "id": "Ysp16xZ58FOY"
      },
      "source": [
        "### Eliminar primero nodo"
      ]
    },
    {
      "cell_type": "code",
      "metadata": {
        "colab": {
          "base_uri": "https://localhost:8080/"
        },
        "id": "_Czodc7T74aX",
        "outputId": "7f72e4bb-1b64-4953-edcd-06d068bd3f86"
      },
      "source": [
        "lista_d.eliminar(201918000)"
      ],
      "execution_count": 9,
      "outputs": [
        {
          "output_type": "execute_result",
          "data": {
            "text/plain": [
              "True"
            ]
          },
          "metadata": {},
          "execution_count": 9
        }
      ]
    },
    {
      "cell_type": "code",
      "metadata": {
        "colab": {
          "base_uri": "https://localhost:8080/"
        },
        "id": "CVP-_ZMD8Ooz",
        "outputId": "6139951d-8788-4203-be48-33cfaf181a34"
      },
      "source": [
        "lista_d.recorrer()"
      ],
      "execution_count": 10,
      "outputs": [
        {
          "output_type": "stream",
          "text": [
            "carne: 201916000 nombre: Gerson Ortiz email: gerson-o@gmail.com ->\n"
          ],
          "name": "stdout"
        }
      ]
    },
    {
      "cell_type": "markdown",
      "metadata": {
        "id": "jRA6nU448WMr"
      },
      "source": [
        "### Eliminar ultimo nodo de la lista"
      ]
    },
    {
      "cell_type": "code",
      "metadata": {
        "colab": {
          "base_uri": "https://localhost:8080/"
        },
        "id": "-GQpxg_n8RMs",
        "outputId": "cabef4c4-22cd-4833-f87b-83201f7ef225"
      },
      "source": [
        "lista_d.eliminar(201916000)"
      ],
      "execution_count": 11,
      "outputs": [
        {
          "output_type": "execute_result",
          "data": {
            "text/plain": [
              "True"
            ]
          },
          "metadata": {},
          "execution_count": 11
        }
      ]
    },
    {
      "cell_type": "code",
      "metadata": {
        "id": "iDAKGTh48cRA"
      },
      "source": [
        "lista_d.recorrer()"
      ],
      "execution_count": 12,
      "outputs": []
    },
    {
      "cell_type": "markdown",
      "metadata": {
        "id": "6aJ8urIVGgmU"
      },
      "source": [
        "### Busqueda en la lista"
      ]
    },
    {
      "cell_type": "code",
      "metadata": {
        "colab": {
          "base_uri": "https://localhost:8080/"
        },
        "id": "Np-KgGSlGeUC",
        "outputId": "9286c74a-091e-4fdc-ebc1-317dfa89db01"
      },
      "source": [
        "lista_d.buscar(201916000)"
      ],
      "execution_count": 19,
      "outputs": [
        {
          "output_type": "stream",
          "text": [
            "carne: 201916000 nombre: Gerson Ortiz email: gerson-o@gmail.com ->\n"
          ],
          "name": "stdout"
        },
        {
          "output_type": "execute_result",
          "data": {
            "text/plain": [
              "True"
            ]
          },
          "metadata": {},
          "execution_count": 19
        }
      ]
    },
    {
      "cell_type": "code",
      "metadata": {
        "colab": {
          "base_uri": "https://localhost:8080/"
        },
        "id": "G7rZ_hu3Gopl",
        "outputId": "7dd10332-403b-4246-fd90-b2113c56432a"
      },
      "source": [
        "lista_d.buscar(201917000)"
      ],
      "execution_count": 20,
      "outputs": [
        {
          "output_type": "stream",
          "text": [
            "carne: 201917000 nombre: Karen Caribel email: k-caribel@gmail.com ->\n"
          ],
          "name": "stdout"
        },
        {
          "output_type": "execute_result",
          "data": {
            "text/plain": [
              "True"
            ]
          },
          "metadata": {},
          "execution_count": 20
        }
      ]
    },
    {
      "cell_type": "code",
      "metadata": {
        "colab": {
          "base_uri": "https://localhost:8080/"
        },
        "id": "Gd5krx02Ixb9",
        "outputId": "96ce40e7-45ce-450a-aa6e-7ec4febb2d2e"
      },
      "source": [
        "lista_d.buscar(201910000)"
      ],
      "execution_count": 21,
      "outputs": [
        {
          "output_type": "execute_result",
          "data": {
            "text/plain": [
              "False"
            ]
          },
          "metadata": {},
          "execution_count": 21
        }
      ]
    }
  ]
}